{
 "cells": [
  {
   "cell_type": "code",
   "execution_count": 1,
   "metadata": {},
   "outputs": [],
   "source": [
    "from PyPDF2 import PdfReader\n",
    "from langchain.text_splitter import CharacterTextSplitter"
   ]
  },
  {
   "cell_type": "code",
   "execution_count": 2,
   "metadata": {},
   "outputs": [],
   "source": [
    "from langchain.embeddings.openai import OpenAIEmbeddings\n",
    "from langchain.vectorstores import FAISS"
   ]
  },
  {
   "cell_type": "code",
   "execution_count": 4,
   "metadata": {},
   "outputs": [],
   "source": [
    "class EmbeddingsPDF():\n",
    "\n",
    "    def __init__(self, pdf) -> None:\n",
    "        self.pdf=pdf\n",
    "\n",
    "    def get_Embeddings(self):\n",
    "        if self.pdf is not None:\n",
    "            try:\n",
    "                leer_pdf = PdfReader(self.pdf)\n",
    "                text = \"\"\n",
    "                for page in leer_pdf.pages:\n",
    "                    text += page.extract_text()\n",
    "\n",
    "                ## Division del texto\n",
    "                text_dividido = CharacterTextSplitter(\n",
    "                    separator=\"\\n\",\n",
    "                    chunk_size = 1000,\n",
    "                    length_function=len\n",
    "                    \n",
    "                )\n",
    "\n",
    "                trozos = text_dividido.split_text(text)\n",
    "                embeddings = OpenAIEmbeddings()\n",
    "                base_Conocimiento = FAISS.from_texts(trozos, embeddings)\n",
    "\n",
    "                base_Conocimiento.save_loca(\"vectorStore/faiss_index\")\n",
    "                return True\n",
    "            except Exception as e:\n",
    "                print(e)\n",
    "                return False\n",
    "\n",
    "\n",
    "\n",
    "            "
   ]
  },
  {
   "cell_type": "code",
   "execution_count": null,
   "metadata": {},
   "outputs": [],
   "source": [
    "pdf_file = \"../../../Fuindein/QuQErmThGM.pdf\"\n",
    "\n",
    "base_conocimiento = EmbeddingsPDF(pdf_file)\n",
    "base_conocimiento.get_Embeddings()\n"
   ]
  }
 ],
 "metadata": {
  "kernelspec": {
   "display_name": ".env",
   "language": "python",
   "name": "python3"
  },
  "language_info": {
   "codemirror_mode": {
    "name": "ipython",
    "version": 3
   },
   "file_extension": ".py",
   "mimetype": "text/x-python",
   "name": "python",
   "nbconvert_exporter": "python",
   "pygments_lexer": "ipython3",
   "version": "3.9.0"
  }
 },
 "nbformat": 4,
 "nbformat_minor": 2
}
